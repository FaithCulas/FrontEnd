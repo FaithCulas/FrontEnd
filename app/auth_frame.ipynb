{
 "cells": [
  {
   "cell_type": "code",
   "execution_count": 5,
   "metadata": {},
   "outputs": [
    {
     "output_type": "stream",
     "name": "stdout",
     "text": "[6.23042070e-307 1.69121096e-306 1.42413555e-306 1.37959740e-306\n 1.02360935e-306 1.78022342e-306 1.06811422e-306 1.42421160e-306\n 8.01106038e-307 1.78020169e-306] [4.67296746e-307 9.34598246e-307 1.78019082e-306 6.23057349e-307\n 1.69120416e-306 6.23058028e-307 1.33508761e-307 8.06632988e-308\n 6.89805151e-307 1.42410974e-306]\n"
    }
   ],
   "source": [
    "#loading libraries\n",
    "import numpy as np\n",
    "\n",
    "#getting preprocessed data\n",
    "CSI = np.ndarray(10, dtype=np.complex128) \n",
    "amp = np.real(CSI)\n",
    "ph = np.imag(CSI)\n",
    "\n",
    "#presence detection\n",
    "presence = getSVM(CSI)\n",
    "\n",
    "#authentication\n",
    "if presence == 1:\n",
    "    user = authNetwork(CSI)\n",
    "    #send user to front end\n",
    "\n",
    "\n",
    "\n",
    "\n",
    "\n",
    "\n",
    "\n",
    "\n",
    "\n"
   ]
  },
  {
   "cell_type": "code",
   "execution_count": null,
   "metadata": {},
   "outputs": [],
   "source": [
    "def getSVM(arr):\n",
    "    #using CSI values get features\n",
    "    #using the features send into SVM\n",
    "    #SVM predicts 1/0 for presence detection\n",
    "    prediction = 1\n",
    "    return prediction"
   ]
  },
  {
   "cell_type": "code",
   "execution_count": null,
   "metadata": {},
   "outputs": [],
   "source": [
    "def authNetwork(arr):\n",
    "    #using CSI values get features\n",
    "    #using features send into trained network\n",
    "    #checking distance make prediction\n",
    "    #output user name or 'unknown'\n",
    "    prediction = 'Rozan'\n",
    "    return prediction"
   ]
  }
 ],
 "metadata": {
  "language_info": {
   "name": "python",
   "codemirror_mode": {
    "name": "ipython",
    "version": 3
   },
   "version": "3.8.2-final"
  },
  "orig_nbformat": 2,
  "file_extension": ".py",
  "mimetype": "text/x-python",
  "name": "python",
  "npconvert_exporter": "python",
  "pygments_lexer": "ipython3",
  "version": 3,
  "kernelspec": {
   "name": "python38264bitf99f6b764e9741daab4eb3c3e741d4e9",
   "display_name": "Python 3.8.2 64-bit"
  }
 },
 "nbformat": 4,
 "nbformat_minor": 2
}